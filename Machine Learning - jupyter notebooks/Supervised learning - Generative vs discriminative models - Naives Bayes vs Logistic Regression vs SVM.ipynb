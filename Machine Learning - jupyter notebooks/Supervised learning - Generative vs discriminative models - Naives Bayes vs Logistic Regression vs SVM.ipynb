{
 "cells": [
  {
   "cell_type": "markdown",
   "id": "e7dc9473",
   "metadata": {},
   "source": [
    "# Resources"
   ]
  },
  {
   "cell_type": "markdown",
   "id": "fcc5fe1f",
   "metadata": {},
   "source": [
    "- https://www.cs.ubc.ca/~schmidtm/Courses/340-F16/L5.pdf\n",
    "- https://en.wikipedia.org/wiki/Generative_model\n",
    "- https://dataespresso.com/en/2017/10/24/comparison-between-naive-bayes-and-logistic-regression/\n",
    "- https://medium.com/@sangha_deb/naive-bayes-vs-logistic-regression-a319b07a5d4c\n",
    "- https://medium.com/axum-labs/logistic-regression-vs-support-vector-machines-svm-c335610a3d16"
   ]
  },
  {
   "cell_type": "markdown",
   "id": "b1292e40",
   "metadata": {},
   "source": [
    "# Choosing a classification problem"
   ]
  },
  {
   "cell_type": "markdown",
   "id": "e70d4bd7",
   "metadata": {},
   "source": [
    "## datasets repository"
   ]
  },
  {
   "cell_type": "markdown",
   "id": "fdbcbe0f",
   "metadata": {},
   "source": [
    "- http://archive.ics.uci.edu/ml/index.php"
   ]
  },
  {
   "cell_type": "markdown",
   "id": "a644fd96",
   "metadata": {},
   "source": [
    "## IRIS datasets"
   ]
  },
  {
   "cell_type": "markdown",
   "id": "a37d9bc3",
   "metadata": {},
   "source": [
    "# Generative model"
   ]
  },
  {
   "cell_type": "markdown",
   "id": "c20ccf65",
   "metadata": {},
   "source": [
    "## Naive Bayes"
   ]
  },
  {
   "cell_type": "markdown",
   "id": "b7f05a7e",
   "metadata": {},
   "source": [
    "# Discriminative models"
   ]
  },
  {
   "cell_type": "markdown",
   "id": "1508c192",
   "metadata": {},
   "source": [
    "## Trees"
   ]
  },
  {
   "cell_type": "markdown",
   "id": "88a4946a",
   "metadata": {},
   "source": [
    "## logistic regression"
   ]
  },
  {
   "cell_type": "markdown",
   "id": "07b9289c",
   "metadata": {},
   "source": [
    "## SVM"
   ]
  },
  {
   "cell_type": "code",
   "execution_count": null,
   "id": "e06b300b",
   "metadata": {},
   "outputs": [],
   "source": []
  }
 ],
 "metadata": {
  "kernelspec": {
   "display_name": "Python 3 (ipykernel)",
   "language": "python",
   "name": "python3"
  },
  "language_info": {
   "codemirror_mode": {
    "name": "ipython",
    "version": 3
   },
   "file_extension": ".py",
   "mimetype": "text/x-python",
   "name": "python",
   "nbconvert_exporter": "python",
   "pygments_lexer": "ipython3",
   "version": "3.9.7"
  }
 },
 "nbformat": 4,
 "nbformat_minor": 5
}
